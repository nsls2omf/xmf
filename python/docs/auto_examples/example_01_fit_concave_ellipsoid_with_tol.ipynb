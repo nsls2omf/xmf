{
  "cells": [
    {
      "cell_type": "markdown",
      "metadata": {},
      "source": [
        "\n# Example 01: Fit concave ellipsoid \n\nThis example shows how to fit a concave ellipsoid to simulated data using the XMF library.\n"
      ]
    },
    {
      "cell_type": "code",
      "execution_count": null,
      "metadata": {
        "collapsed": false
      },
      "outputs": [],
      "source": [
        "import numpy as np\nimport xmf\n\n## 1. Lateral coordinates\n\nx_range = 200e-3 \ny_range = 20e-3 \nx_num = 201 \ny_num = 21 \n\nx1d = np.linspace(-x_range/2, x_range/2, x_num) \ny1d = np.linspace(-y_range/2, y_range/2, y_num) \nx2d, y2d = np.meshgrid(x1d, y1d)\n\nabs_p = 30 \nabs_q = 0.3\ntheta = 30e-3 \n\nx_i = -1e-3 \ny_i = -2e-4 \nz_i = 3e-7 \nalpha = 2e-6 \nbeta = 1e-5 \ngamma = 0.5e-3 \n\ntrue_params_dict = {\n    'p': abs_p,\n    'q': abs_q,\n    'theta': theta,\n    'x_i': x_i,\n    'y_i': y_i,\n    'z_i': z_i,\n    'alpha': alpha,\n    'beta': beta,\n    'gamma': gamma\n}\n\nheight_measurement_noise_std = 0.5e-9\nslope_measurement_noise_std = 100e-9\n\ninput_params_dict = {\n    'p': abs_p,\n    'q': abs_q,\n    'theta': theta\n}\n\ntol_dict = {\n    'p': 0,\n    'q': 0,\n    'theta': 0\n}\n\n## 2.2. Concave Ellipsoid (CCVE)\n\nz2d = xmf.generate_2d_curved_surface_height(xmf.standard_concave_ellipsoid_height, x2d, y2d, abs_p, abs_q, theta, x_i, y_i, z_i, alpha, beta, gamma) \nz2d_measured = z2d + np.random.randn(z2d.shape[0], z2d.shape[1])*height_measurement_noise_std \nz2d_res, z2d_fit, opt_params_dict, opt_params_ci_dict, _ = xmf.fit_concave_ellipsoid_height(x2d, y2d, z2d_measured, input_params_dict, tol_dict) \nxmf.fig_show_2d_fitting_map(x2d, y2d, z2d_measured, z2d_fit, z2d_res, true_params_dict, opt_params_dict, opt_params_ci_dict,'Concave Ellipsoid')"
      ]
    }
  ],
  "metadata": {
    "kernelspec": {
      "display_name": "Python 3",
      "language": "python",
      "name": "python3"
    },
    "language_info": {
      "codemirror_mode": {
        "name": "ipython",
        "version": 3
      },
      "file_extension": ".py",
      "mimetype": "text/x-python",
      "name": "python",
      "nbconvert_exporter": "python",
      "pygments_lexer": "ipython3",
      "version": "3.12.7"
    }
  },
  "nbformat": 4,
  "nbformat_minor": 0
}