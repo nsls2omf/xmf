{
  "cells": [
    {
      "cell_type": "markdown",
      "metadata": {},
      "source": [
        "\n# Example 05: Fit real data of a concave hyperbolic cylinder \n\nThis example shows how to fit real data of a concave hyperbolic cylinder using the XMF library.\n"
      ]
    },
    {
      "cell_type": "code",
      "execution_count": null,
      "metadata": {
        "collapsed": false
      },
      "outputs": [],
      "source": [
        "import os\nfrom scipy.io import loadmat\nimport xmf\n\nconcave_hyperbolic_cylinder_map = loadmat(os.path.join('..', '..', '..', 'real_data', 'sample_02_concave_hyperbolic_cylinder_height_map.mat'))\n\np = concave_hyperbolic_cylinder_map['params_target'][0][0][0][0][0]\nq = concave_hyperbolic_cylinder_map['params_target'][0][0][1][0][0]\ntheta = concave_hyperbolic_cylinder_map['params_target'][0][0][2][0][0]\nx_i = concave_hyperbolic_cylinder_map['params_target'][0][0][3][0][0]\ny_i = concave_hyperbolic_cylinder_map['params_target'][0][0][4][0][0]\nz_i = concave_hyperbolic_cylinder_map['params_target'][0][0][5][0][0]\nalpha = concave_hyperbolic_cylinder_map['params_target'][0][0][6][0][0]\nbeta = concave_hyperbolic_cylinder_map['params_target'][0][0][7][0][0]\ngamma = concave_hyperbolic_cylinder_map['params_target'][0][0][8][0][0]\n\nx2d = concave_hyperbolic_cylinder_map['x2d']\ny2d = concave_hyperbolic_cylinder_map['y2d']\nz2d_measured = concave_hyperbolic_cylinder_map['z2d']\n\ntarget_params_dict = {\n    'p': p,\n    'q': q,\n    'theta': theta,\n    'x_i': x_i,\n    'y_i': y_i,\n    'z_i': z_i,\n    'alpha': alpha,\n    'beta': beta,\n    'gamma': gamma\n}\n\nparams_input_dict = {\n    'p': p,\n    'q': q,\n    'theta': theta\n}\n\nopt_dict = {\n    'p': False,\n    'q': False,\n    'theta': False\n}\n\nz2d_res, z2d_fit, opt_params_dict, opt_params_ci_dict, _ = xmf.fit_concave_hyperbolic_cylinder_height(x2d, y2d, z2d_measured, params_input_dict, opt_dict) \nxmf.fig_show_2d_fitting_map(x2d, y2d, z2d_measured, z2d_fit, z2d_res, target_params_dict, opt_params_dict, opt_params_ci_dict,'Concave Hyperbolic Cylinder')"
      ]
    }
  ],
  "metadata": {
    "kernelspec": {
      "display_name": "Python 3",
      "language": "python",
      "name": "python3"
    },
    "language_info": {
      "codemirror_mode": {
        "name": "ipython",
        "version": 3
      },
      "file_extension": ".py",
      "mimetype": "text/x-python",
      "name": "python",
      "nbconvert_exporter": "python",
      "pygments_lexer": "ipython3",
      "version": "3.12.7"
    }
  },
  "nbformat": 4,
  "nbformat_minor": 0
}